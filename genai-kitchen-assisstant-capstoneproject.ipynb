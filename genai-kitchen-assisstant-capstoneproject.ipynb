{
 "cells": [
  {
   "cell_type": "markdown",
   "metadata": {},
   "source": [
    "🍳 Gen AI Kitchen Companion: Smart Recipes from What You Have\n",
    "This project enhances home cooking by integrating GenAI to generate smart recipe suggestions based on ingredients users already have at home.\n",
    "\n",
    "🔧 Capabilities Used:\n",
    "Few-shot Prompting: Generate complete recipes from simple lists of ingredients.\n",
    "\n",
    "Structured Output: Return recipe name, ingredients used, and step-by-step cooking instructions in JSON format.\n",
    "\n",
    "Lightweight Interaction: No database needed—just smart prompt engineering and Google Gemini API for personalized assistance.\n"
   ]
  },
  {
   "cell_type": "markdown",
   "metadata": {},
   "source": [
    "## 🧠 Problem Statement\n",
    "\n",
    "Most recipe apps fail when you don’t have all the ingredients. Users need something smarter — a system that takes what’s in their pantry or fridge, understands their dietary preferences, and gives them easy-to-follow, personalized instructions.\n",
    "\n",
    "The Gen AI Kitchen Companion solves this with intelligent prompting and structured generation techniques.\n"
   ]
  },
  {
   "cell_type": "markdown",
   "metadata": {},
   "source": [
    "## 🔧 Gen AI Capabilities Used\n",
    "\n",
    "| Capability | Description |\n",
    "|------------|-------------|\n",
    "| **Structured Output** | Recipe output is structured as JSON: ingredients, steps, time, etc. |\n",
    "| **Few-shot Prompting** | Prompt tuned with examples for high-quality recipe results |\n",
    "| **Function Calling (optional)** | Used to expand the recipe or fetch a shopping list if ingredients are missing |\n"
   ]
  },
  {
   "cell_type": "code",
   "execution_count": null,
   "metadata": {
    "execution": {
     "iopub.execute_input": "2025-07-09T10:54:25.760854Z",
     "iopub.status.busy": "2025-07-09T10:54:25.759973Z",
     "iopub.status.idle": "2025-07-09T10:54:27.952128Z",
     "shell.execute_reply": "2025-07-09T10:54:27.951073Z",
     "shell.execute_reply.started": "2025-07-09T10:54:25.760824Z"
    },
    "trusted": true
   },
   "outputs": [],
   "source": [
    "import os\n",
    "from google import genai\n",
    "import numpy as np\n",
    "from kaggle_secrets import UserSecretsClient\n",
    "from sklearn.metrics.pairwise import cosine_similarity\n"
   ]
  },
  {
   "cell_type": "markdown",
   "metadata": {},
   "source": [
    "## 🔐 API Key Management and Environment Setup\n",
    "\n",
    "To integrate Google services such as Vertex AI or embedding models via API, it’s important to handle credentials securely, especially in public or collaborative environments like Kaggle. Here's how we manage API keys using Kaggle Secrets:\n",
    "\n",
    "### ✅ Securely Fetching Google API Key from Kaggle Secrets"
   ]
  },
  {
   "cell_type": "code",
   "execution_count": 2,
   "metadata": {
    "execution": {
     "iopub.execute_input": "2025-07-09T10:54:42.352348Z",
     "iopub.status.busy": "2025-07-09T10:54:42.351864Z",
     "iopub.status.idle": "2025-07-09T10:54:42.637314Z",
     "shell.execute_reply": "2025-07-09T10:54:42.636147Z",
     "shell.execute_reply.started": "2025-07-09T10:54:42.352321Z"
    },
    "trusted": true
   },
   "outputs": [],
   "source": [
    "# ✅ Get API key from Kaggle secrets\n",
    "GOOGLE_API_KEY = UserSecretsClient().get_secret(\"Google_API_Key\")\n",
    "\n",
    "# Set the Google API key in the environment variable\n",
    "os.environ[\"GOOGLE_API_KEY\"] = GOOGLE_API_KEY"
   ]
  },
  {
   "cell_type": "markdown",
   "metadata": {},
   "source": [
    "### 🧠 Generating Smart Recipes Using Few-Shot Prompting\n",
    "\n",
    "This function uses **few-shot prompting** to guide the Gemini model in generating creative recipe suggestions based on the user's available ingredients.\n",
    "\n",
    "It provides several example ingredient lists and corresponding recipe responses to help the model understand the desired format and style. The model then generates a relevant recipe for the user's current input using the Gemini 2.0 Flash model.\n"
   ]
  },
  {
   "cell_type": "code",
   "execution_count": 3,
   "metadata": {
    "execution": {
     "iopub.execute_input": "2025-07-09T10:54:48.981391Z",
     "iopub.status.busy": "2025-07-09T10:54:48.980516Z",
     "iopub.status.idle": "2025-07-09T10:54:48.987479Z",
     "shell.execute_reply": "2025-07-09T10:54:48.986591Z",
     "shell.execute_reply.started": "2025-07-09T10:54:48.981360Z"
    },
    "trusted": true
   },
   "outputs": [],
   "source": [
    "def get_smart_recipe(ingredients_list):\n",
    "    # Convert list to readable string\n",
    "    user_ingredients = \", \".join(ingredients_list)\n",
    "\n",
    "    # Few-shot examples to guide the model\n",
    "    prompt = f\"\"\"Suggest a recipe using available ingredients.\n",
    "\n",
    "User: tomato, onion, garlic, turmeric\n",
    "Assistant: Try making a simple tomato curry. Sauté chopped onion and garlic in oil, add chopped tomatoes and turmeric. Cook until soft and serve with rice.\n",
    "\n",
    "User: paneer, bell pepper, onion, cumin\n",
    "Assistant: You can make Paneer Tikka Masala. Sauté onions and cumin seeds, add bell peppers and paneer. Add masala and cook until tender.\n",
    "\n",
    "User: rice, coconut, green chili, mustard seeds\n",
    "Assistant: Make coconut rice! Cook rice, then fry mustard seeds and green chilies in oil. Mix in grated coconut and add to the rice.\n",
    "\n",
    "User: {user_ingredients}\n",
    "Assistant:\"\"\"\n",
    "\n",
    "    # Load Gemini Pro model\n",
    "    import google.generativeai as genai\n",
    "    genai.configure(api_key=os.environ[\"GOOGLE_API_KEY\"])\n",
    "\n",
    "    model = genai.GenerativeModel(\"gemini-2.0-flash\")\n",
    "    response = model.generate_content(prompt)\n",
    "\n",
    "    return response.text.strip()\n"
   ]
  },
  {
   "cell_type": "markdown",
   "metadata": {},
   "source": [
    "### 🔍 Generating Recipe Embeddings for Similarity Matching\n",
    "\n",
    "This function creates vector embeddings for ingredient lists or dish descriptions using the **Gemini 2.0 Flash model**.\n",
    "\n",
    "These embeddings are useful for comparing recipes using **cosine similarity**, enabling the system to recommend recipes similar to the user's input. The function also includes error handling and debug logs to ensure robustness.\n"
   ]
  },
  {
   "cell_type": "code",
   "execution_count": 4,
   "metadata": {
    "execution": {
     "iopub.execute_input": "2025-07-09T10:54:53.000290Z",
     "iopub.status.busy": "2025-07-09T10:54:52.999931Z",
     "iopub.status.idle": "2025-07-09T10:54:53.008074Z",
     "shell.execute_reply": "2025-07-09T10:54:53.007086Z",
     "shell.execute_reply.started": "2025-07-09T10:54:53.000258Z"
    },
    "trusted": true
   },
   "outputs": [],
   "source": [
    "def get_recipe_embedding(text):\n",
    "    import google.generativeai as genai\n",
    "    genai.configure(api_key=os.environ[\"GOOGLE_API_KEY\"])\n",
    "    \n",
    "    try:\n",
    "        # Get the embedding for the ingredient list or dish description\n",
    "        embedding_prompt = f\"Generate a vector representation for the ingredients or dish: {text}\"\n",
    "        model = genai.GenerativeModel(\"gemini-2.0-flash\")\n",
    "        embedding_response = model.generate_content(embedding_prompt)\n",
    "\n",
    "        print(\"Embedding Response:\", embedding_response.text.strip())  # Debugging line\n",
    "\n",
    "        embedding_str = embedding_response.text.strip()\n",
    "        if not embedding_str:\n",
    "            print(\"⚠️ Warning: Embedding is empty.\")\n",
    "            return np.zeros(0)\n",
    "        \n",
    "        # Convert string to numpy array\n",
    "        embedding = np.fromiter(map(float, embedding_str.split(',')), dtype=float)\n",
    "        if embedding.size == 0:\n",
    "            print(\"⚠️ Warning: Embedding array is empty.\")\n",
    "        return embedding\n",
    "\n",
    "    except Exception as e:\n",
    "        print(f\"❌ Error generating embedding: {e}\")\n",
    "        return np.zeros(0)\n"
   ]
  },
  {
   "cell_type": "markdown",
   "metadata": {},
   "source": [
    "### 🧠 Structured Recipe Generation with JSON Output\n",
    "\n",
    "This function uses a prompt-based approach to generate a **structured recipe** from the user's input (such as ingredients or dish request). It leverages the **Gemini 2.0 Flash** model to return a JSON object with:\n",
    "\n",
    "- `recipe_name`: Short name of the suggested dish  \n",
    "- `ingredients`: List of required ingredients  \n",
    "- `steps`: Step-by-step cooking instructions  \n",
    "- `cuisine`: Suggested cuisine (e.g., Indian, Italian)  \n",
    "- `meal_type`: Appropriate meal time (e.g., lunch, snack)  \n",
    "- `prep_time`: Estimated preparation time in minutes  \n",
    "\n",
    "The output is parsed from the model response into a valid JSON format for further use.\n"
   ]
  },
  {
   "cell_type": "code",
   "execution_count": 5,
   "metadata": {
    "execution": {
     "iopub.execute_input": "2025-07-09T10:54:56.305271Z",
     "iopub.status.busy": "2025-07-09T10:54:56.304949Z",
     "iopub.status.idle": "2025-07-09T10:54:56.312277Z",
     "shell.execute_reply": "2025-07-09T10:54:56.310788Z",
     "shell.execute_reply.started": "2025-07-09T10:54:56.305247Z"
    },
    "trusted": true
   },
   "outputs": [],
   "source": [
    "def get_structured_recipe(user_input):\n",
    "    structured_prompt = f\"\"\"\n",
    "You are a smart kitchen assistant. Based on the user's available ingredients or recipe request, return a recipe in structured JSON format with the following keys:\n",
    "\n",
    "- recipe_name: short dish name\n",
    "- ingredients: list of required ingredients\n",
    "- steps: list of cooking instructions\n",
    "- cuisine: suitable cuisine (e.g., Indian, Italian)\n",
    "- meal_type: breakfast, lunch, dinner, snack, etc.\n",
    "- prep_time: estimated preparation time in minutes\n",
    "\n",
    "Respond **only** with valid JSON.\n",
    "\n",
    "User input: \"{user_input}\"\n",
    "JSON:\n",
    "\"\"\"\n",
    "    \n",
    "    import google.generativeai as genai\n",
    "    import os\n",
    "    import json\n",
    "\n",
    "    genai.configure(api_key=os.environ[\"GOOGLE_API_KEY\"])\n",
    "    model = genai.GenerativeModel(\"gemini-2.0-flash\")\n",
    "\n",
    "    try:\n",
    "        response = model.generate_content(structured_prompt)\n",
    "        return json.loads(response.text)\n",
    "    except json.JSONDecodeError:\n",
    "        return {\"error\": \"⚠️ Failed to parse structured recipe response.\"}"
   ]
  },
  {
   "cell_type": "markdown",
   "metadata": {},
   "source": [
    "## 🔍 Recipe Retrieval Using Embeddings\n",
    "\n",
    "To intelligently match user-provided ingredients or phrases to the most relevant recipe, we compute **cosine similarity** between the user's input and a database of recipe embeddings.\n",
    "\n",
    "### 🧠 `find_similar_recipe()` Function"
   ]
  },
  {
   "cell_type": "code",
   "execution_count": 6,
   "metadata": {
    "execution": {
     "iopub.execute_input": "2025-07-09T10:55:00.700816Z",
     "iopub.status.busy": "2025-07-09T10:55:00.700399Z",
     "iopub.status.idle": "2025-07-09T10:55:00.706920Z",
     "shell.execute_reply": "2025-07-09T10:55:00.705802Z",
     "shell.execute_reply.started": "2025-07-09T10:55:00.700789Z"
    },
    "trusted": true
   },
   "outputs": [],
   "source": [
    "def find_similar_recipe(user_input, recipe_db):\n",
    "    user_embedding = get_recipe_embedding(user_input)\n",
    "    \n",
    "    # Check if the embedding is valid\n",
    "    if user_embedding.size == 0:\n",
    "        print(\"Error: No valid embedding found for the user input.\")\n",
    "        return \"Sorry, I couldn't find a matching recipe.\"\n",
    "\n",
    "    recipe_embeddings = [recipe['embedding'] for recipe in recipe_db]\n",
    "    \n",
    "    # Calculate cosine similarity\n",
    "    similarities = cosine_similarity([user_embedding], recipe_embeddings)\n",
    "    most_similar_index = np.argmax(similarities)\n",
    "    return recipe_db[most_similar_index]['recipe']\n"
   ]
  },
  {
   "cell_type": "markdown",
   "metadata": {},
   "source": [
    "## 🧪 Main Script: Gen AI Kitchen Companion Demo\n",
    "\n",
    "This is the interactive script for testing your Gen AI Kitchen Companion using multiple strategies:\n",
    "- 🔍 **Embeddings + Vector Search**\n",
    "- 🤖 **Few-shot Prompting**\n",
    "- 📦 **Structured JSON Output**\n",
    "\n",
    "### 🚀 Script"
   ]
  },
  {
   "cell_type": "code",
   "execution_count": null,
   "metadata": {
    "execution": {
     "iopub.execute_input": "2025-07-09T10:55:05.985437Z",
     "iopub.status.busy": "2025-07-09T10:55:05.985129Z"
    },
    "trusted": true
   },
   "outputs": [],
   "source": [
    "if __name__ == \"__main__\":\n",
    "    # Example recipe database with pre-calculated embeddings\n",
    "    recipe_db = [\n",
    "        {'recipe': 'Tomato Rice', 'embedding': get_recipe_embedding('tomato, rice, cumin, turmeric')},\n",
    "        {'recipe': 'Paneer Bhurji', 'embedding': get_recipe_embedding('paneer, onion, tomato, spices')},\n",
    "        {'recipe': 'Lemon Rice', 'embedding': get_recipe_embedding('lemon, rice, mustard seeds, curry leaves')},\n",
    "        {'recipe': 'Mixed Vegetable Pulao', 'embedding': get_recipe_embedding('carrot, beans, peas, rice, garam masala')},\n",
    "        {'recipe': 'Simple Khichdi', 'embedding': get_recipe_embedding('rice, moong dal, turmeric, salt')}\n",
    "    ]\n",
    "\n",
    "    while True:\n",
    "        user_input = input(\"\\n🧑‍🍳 What ingredients do you have? (or type 'exit'): \")\n",
    "        if user_input.lower() == \"exit\":\n",
    "            break\n",
    "\n",
    "        # ✅ Few-shot Prompting\n",
    "        basic_response = get_smart_recipe(user_input)\n",
    "        print(\"\\n👩‍🍳 Assistant (Few-shot Recipe Suggestion):\", basic_response)\n",
    "\n",
    "        # ✅ Embeddings + Vector Search\n",
    "        similar_recipe = find_similar_recipe(user_input, recipe_db)\n",
    "        print(\"🍲 Assistant (Similar Recipe Suggestion):\", similar_recipe)\n",
    "\n",
    "        # ✅ Structured Output / JSON Mode\n",
    "        structured_json = get_structured_recipe(user_input)\n",
    "        print(\"📦 Assistant (Structured Recipe Info in JSON):\")\n",
    "        print(structured_json)\n"
   ]
  }
 ],
 "metadata": {
  "kaggle": {
   "accelerator": "none",
   "dataSources": [],
   "dockerImageVersionId": 31012,
   "isGpuEnabled": false,
   "isInternetEnabled": true,
   "language": "python",
   "sourceType": "notebook"
  },
  "kernelspec": {
   "display_name": "Python 3",
   "language": "python",
   "name": "python3"
  },
  "language_info": {
   "codemirror_mode": {
    "name": "ipython",
    "version": 3
   },
   "file_extension": ".py",
   "mimetype": "text/x-python",
   "name": "python",
   "nbconvert_exporter": "python",
   "pygments_lexer": "ipython3",
   "version": "3.11.11"
  }
 },
 "nbformat": 4,
 "nbformat_minor": 4
}
